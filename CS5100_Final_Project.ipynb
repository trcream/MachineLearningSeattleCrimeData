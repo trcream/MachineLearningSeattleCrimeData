{
 "cells": [
  {
   "cell_type": "markdown",
   "metadata": {},
   "source": [
    "# CS5100 Final Project"
   ]
  },
  {
   "cell_type": "markdown",
   "metadata": {},
   "source": [
    "Name: Your Name Here\n",
    "\n",
    "Goal: This assignment will allow you to apply your knowledge of machine learning that you have aquired in this course on a real-world dataset of your choosing per the assignment specifications.\n",
    "\n",
    "Complete the notebook and demonstrate your mastery of the topic."
   ]
  },
  {
   "cell_type": "markdown",
   "metadata": {},
   "source": [
    "## Prerequisites\n",
    "\n",
    "In this section describe any packages that need to be installed or any additional setup that needs to take place before trying to run code."
   ]
  },
  {
   "cell_type": "markdown",
   "metadata": {},
   "source": [
    "## Problem\n",
    "\n",
    "In this section, you will explain the problem you are trying to solve, the things you are trying to learn, and how you want to visualize the results."
   ]
  },
  {
   "cell_type": "markdown",
   "metadata": {},
   "source": [
    "## Data\n",
    "\n",
    "In this section you will describe the dataset (corpus) you are using. Explain who collected the data, how they did it, the manner in which it was stored, the way you accessed the data, what steps you will have to do to clean it, and so on. Provide any relavent details."
   ]
  },
  {
   "cell_type": "markdown",
   "metadata": {},
   "source": [
    "## Cleaning the Data\n",
    "\n",
    "Add the code to download/query you data. If your data is already downloaded, then load it into your program here. Then add the code to clean it."
   ]
  },
  {
   "cell_type": "markdown",
   "metadata": {},
   "source": [
    "## Learning Model\n",
    "\n",
    "In detailed and documented Python, walk the user through your code below similar to the Twitter assignment."
   ]
  },
  {
   "cell_type": "markdown",
   "metadata": {},
   "source": [
    "## Tuning and Feature Extraction\n",
    "\n",
    "Add and describe code to perform Hyperparameter Tuning and Feature Extraction or PCA."
   ]
  },
  {
   "cell_type": "markdown",
   "metadata": {},
   "source": [
    "## Visuals\n",
    "\n",
    "Below, generate the visuals that will explain the results you are getting and show what you hoped to learn from the data."
   ]
  },
  {
   "cell_type": "markdown",
   "metadata": {},
   "source": [
    "## Refection\n",
    "\n",
    "1. What issues did you encounter when aquiring and cleaning the data?\n",
    "2. What features did you use in your final model and why were others excluded?\n",
    "3. Which ML methods did you use and why? Which performed best before you started tuning? Did things change after tuning?\n",
    "4. What was your accuracy before and then after cross validation?\n",
    "5. What was the most challenging part of this project?"
   ]
  }
 ],
 "metadata": {
  "anaconda-cloud": {},
  "kernelspec": {
   "display_name": "Python 3.9.6 64-bit",
   "language": "python",
   "name": "python3"
  },
  "language_info": {
   "codemirror_mode": {
    "name": "ipython",
    "version": 3
   },
   "file_extension": ".py",
   "mimetype": "text/x-python",
   "name": "python",
   "nbconvert_exporter": "python",
   "pygments_lexer": "ipython3",
   "version": "3.9.6"
  },
  "vscode": {
   "interpreter": {
    "hash": "0333d40387376c9014aa4ff3a51f15c04ca086de5619d446c5c4e028c36297bf"
   }
  }
 },
 "nbformat": 4,
 "nbformat_minor": 1
}
